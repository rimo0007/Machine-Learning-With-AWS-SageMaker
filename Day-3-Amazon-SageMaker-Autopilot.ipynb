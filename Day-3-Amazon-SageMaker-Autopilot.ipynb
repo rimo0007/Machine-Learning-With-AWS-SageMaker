{
 "cells": [
  {
   "cell_type": "markdown",
   "metadata": {},
   "source": [
    "# Train a model with Amazon SageMaker Autopilot"
   ]
  },
  {
   "cell_type": "code",
   "execution_count": 28,
   "metadata": {},
   "outputs": [
    {
     "name": "stdout",
     "output_type": "stream",
     "text": [
      "\u001b[33mWARNING: Running pip as the 'root' user can result in broken permissions and conflicting behaviour with the system package manager. It is recommended to use a virtual environment instead: https://pip.pypa.io/warnings/venv\u001b[0m\u001b[33m\n",
      "\u001b[0m"
     ]
    }
   ],
   "source": [
    "!pip install --disable-pip-version-check -q sagemaker==2.35.0"
   ]
  },
  {
   "cell_type": "code",
   "execution_count": 29,
   "metadata": {},
   "outputs": [],
   "source": [
    "import boto3\n",
    "import sagemaker\n",
    "import pandas as pd\n",
    "import numpy as np\n",
    "import time\n",
    "import json"
   ]
  },
  {
   "cell_type": "code",
   "execution_count": 30,
   "metadata": {},
   "outputs": [],
   "source": [
    "sm = boto3.client(service_name = 'sagemaker')\n",
    "sm_runtime = boto3.client('sagemaker-runtime')\n",
    "\n",
    "sess = sagemaker.Session(sagemaker_client=sm,\n",
    "                         sagemaker_runtime_client=sm_runtime)\n",
    "bucket = sess.default_bucket()\n",
    "role = sagemaker.get_execution_role()\n",
    "region = sess.boto_region_name"
   ]
  },
  {
   "cell_type": "code",
   "execution_count": 31,
   "metadata": {},
   "outputs": [],
   "source": [
    "import matplotlib.pyplot as plt\n",
    "%matplotlib inline\n",
    "%config InlineBackeend.figure_format = 'retina'"
   ]
  },
  {
   "cell_type": "markdown",
   "metadata": {},
   "source": [
    "## 1. Review transformed dataset"
   ]
  },
  {
   "cell_type": "code",
   "execution_count": 61,
   "metadata": {},
   "outputs": [
    {
     "name": "stdout",
     "output_type": "stream",
     "text": [
      "download: s3://sagemaker-us-east-1-740250289965/data-kalyan/bias/balanced/womens_clothing_ecommerce_reviews_balanced_.csv to ./womens_clothing_ecommerce_reviews_balanced_.csv\n"
     ]
    }
   ],
   "source": [
    "!aws s3 cp 's3://sagemaker-us-east-1-740250289965/data-kalyan/bias/balanced/womens_clothing_ecommerce_reviews_balanced_.csv' ./"
   ]
  },
  {
   "cell_type": "code",
   "execution_count": 72,
   "metadata": {},
   "outputs": [
    {
     "data": {
      "text/html": [
       "<div>\n",
       "<style scoped>\n",
       "    .dataframe tbody tr th:only-of-type {\n",
       "        vertical-align: middle;\n",
       "    }\n",
       "\n",
       "    .dataframe tbody tr th {\n",
       "        vertical-align: top;\n",
       "    }\n",
       "\n",
       "    .dataframe thead th {\n",
       "        text-align: right;\n",
       "    }\n",
       "</style>\n",
       "<table border=\"1\" class=\"dataframe\">\n",
       "  <thead>\n",
       "    <tr style=\"text-align: right;\">\n",
       "      <th></th>\n",
       "      <th>sentiment</th>\n",
       "      <th>review_body</th>\n",
       "      <th>product_category</th>\n",
       "    </tr>\n",
       "  </thead>\n",
       "  <tbody>\n",
       "    <tr>\n",
       "      <th>0</th>\n",
       "      <td>-1</td>\n",
       "      <td>This suit did nothing for me. the top has zero...</td>\n",
       "      <td>Swim</td>\n",
       "    </tr>\n",
       "    <tr>\n",
       "      <th>1</th>\n",
       "      <td>-1</td>\n",
       "      <td>Like other reviewers  i saw this dress on the ...</td>\n",
       "      <td>Dresses</td>\n",
       "    </tr>\n",
       "    <tr>\n",
       "      <th>2</th>\n",
       "      <td>-1</td>\n",
       "      <td>I wish i had read the reviews before purchasin...</td>\n",
       "      <td>Knits</td>\n",
       "    </tr>\n",
       "    <tr>\n",
       "      <th>3</th>\n",
       "      <td>-1</td>\n",
       "      <td>I ordered these pants in my usual size (xl) an...</td>\n",
       "      <td>Legwear</td>\n",
       "    </tr>\n",
       "    <tr>\n",
       "      <th>4</th>\n",
       "      <td>-1</td>\n",
       "      <td>I noticed this top on one of the sales associa...</td>\n",
       "      <td>Knits</td>\n",
       "    </tr>\n",
       "  </tbody>\n",
       "</table>\n",
       "</div>"
      ],
      "text/plain": [
       "   sentiment                                        review_body  \\\n",
       "0         -1  This suit did nothing for me. the top has zero...   \n",
       "1         -1  Like other reviewers  i saw this dress on the ...   \n",
       "2         -1  I wish i had read the reviews before purchasin...   \n",
       "3         -1  I ordered these pants in my usual size (xl) an...   \n",
       "4         -1  I noticed this top on one of the sales associa...   \n",
       "\n",
       "  product_category  \n",
       "0             Swim  \n",
       "1          Dresses  \n",
       "2            Knits  \n",
       "3          Legwear  \n",
       "4            Knits  "
      ]
     },
     "execution_count": 72,
     "metadata": {},
     "output_type": "execute_result"
    }
   ],
   "source": [
    "path = './womens_clothing_ecommerce_reviews_balanced_.csv'\n",
    "\n",
    "df = pd.read_csv(path, delimiter=',')\n",
    "df.head()"
   ]
  },
  {
   "cell_type": "code",
   "execution_count": 73,
   "metadata": {},
   "outputs": [],
   "source": [
    "path_autopilot = './womens_clothing_ecommerce_reviews_balanced_for_autopilot.csv'\n",
    "\n",
    "df[['sentiment', 'review_body']].to_csv(path_autopilot, \n",
    "                                        sep=',', \n",
    "                                        index=False)"
   ]
  },
  {
   "cell_type": "markdown",
   "metadata": {},
   "source": [
    "## 2. Configure the Autopilot job"
   ]
  },
  {
   "cell_type": "code",
   "execution_count": 74,
   "metadata": {},
   "outputs": [
    {
     "data": {
      "text/plain": [
       "'s3://sagemaker-us-east-1-740250289965/data-kalyan/autopilot/data/womens_clothing_ecommerce_reviews_balanced_for_autopilot.csv'"
      ]
     },
     "execution_count": 74,
     "metadata": {},
     "output_type": "execute_result"
    }
   ],
   "source": [
    "autopilot_train_s3_uri = sess.upload_data(bucket=bucket, key_prefix='data-kalyan/autopilot/data', path=path_autopilot)\n",
    "autopilot_train_s3_uri"
   ]
  },
  {
   "cell_type": "code",
   "execution_count": 75,
   "metadata": {},
   "outputs": [
    {
     "name": "stdout",
     "output_type": "stream",
     "text": [
      "2022-09-19 14:54:53    2253749 womens_clothing_ecommerce_reviews_balanced_for_autopilot.csv\n"
     ]
    }
   ],
   "source": [
    "!aws s3 ls $autopilot_train_s3_uri"
   ]
  },
  {
   "cell_type": "markdown",
   "metadata": {},
   "source": [
    "### Need tp provide a S3 output for generated assets"
   ]
  },
  {
   "cell_type": "code",
   "execution_count": 76,
   "metadata": {},
   "outputs": [
    {
     "name": "stdout",
     "output_type": "stream",
     "text": [
      "s3://sagemaker-us-east-1-740250289965/data-kalyan/autopilot\n"
     ]
    }
   ],
   "source": [
    "model_output_s3_uri = 's3://{}/data-kalyan/autopilot'.format(bucket)\n",
    "\n",
    "print(model_output_s3_uri)"
   ]
  },
  {
   "cell_type": "markdown",
   "metadata": {},
   "source": [
    "### Configure the Autopilot job"
   ]
  },
  {
   "cell_type": "code",
   "execution_count": 77,
   "metadata": {},
   "outputs": [],
   "source": [
    "import time\n",
    "timestamp = int(time.time())\n",
    "auto_ml_job_name = 'automl-dm-{}'.format(timestamp)"
   ]
  },
  {
   "cell_type": "code",
   "execution_count": 78,
   "metadata": {},
   "outputs": [],
   "source": [
    "max_candidates = 3\n",
    "\n",
    "automl = sagemaker.automl.automl.AutoML(\n",
    "    target_attribute_name = 'sentiment',\n",
    "    base_job_name = auto_ml_job_name,\n",
    "    output_path = model_output_s3_uri,\n",
    "    max_candidates = max_candidates,\n",
    "    sagemaker_session = sess,\n",
    "    role = role,\n",
    "    max_runtime_per_training_job_in_seconds = 1200,\n",
    "    total_job_runtime_in_seconds = 7200\n",
    ")"
   ]
  },
  {
   "cell_type": "markdown",
   "metadata": {},
   "source": [
    "#  Launch the Autopilot job"
   ]
  },
  {
   "cell_type": "code",
   "execution_count": 79,
   "metadata": {},
   "outputs": [],
   "source": [
    "automl.fit(\n",
    "    autopilot_train_s3_uri,\n",
    "    job_name=auto_ml_job_name, \n",
    "    wait=False, \n",
    "    logs=False\n",
    ")"
   ]
  },
  {
   "cell_type": "markdown",
   "metadata": {},
   "source": [
    "\n",
    "# 4. Track Autopilot job progress\n",
    "\n",
    "Once the Autopilot job has been launched, you can track the job progress directly from the notebook using the SDK capabilities."
   ]
  },
  {
   "cell_type": "markdown",
   "metadata": {},
   "source": [
    "### 4.1. Autopilot job description\n",
    "\n",
    "Function `describe_auto_ml_job` of the Amazon SageMaker service returns the information about the AutoML job in dictionary format. You can review the response syntax and response elements in the [**documentation**](https://docs.aws.amazon.com/sagemaker/latest/APIReference/API_DescribeAutoMLJob.html)."
   ]
  },
  {
   "cell_type": "code",
   "execution_count": 80,
   "metadata": {},
   "outputs": [],
   "source": [
    "job_description_response = automl.describe_auto_ml_job(job_name=auto_ml_job_name)"
   ]
  },
  {
   "cell_type": "markdown",
   "metadata": {},
   "source": [
    "### 4.2. Autopilot job status\n",
    "\n",
    "To track the job progress you can use two response elements: `AutoMLJobStatus` and `AutoMLJobSecondaryStatus`, which correspond to the primary (Completed | InProgress | Failed | Stopped | Stopping) and secondary (AnalyzingData | FeatureEngineering | ModelTuning etc.) job states respectively. To see if the AutoML job has started, you can check the existence of the `AutoMLJobStatus` and `AutoMLJobSecondaryStatus` elements in the job description response.\n"
   ]
  },
  {
   "cell_type": "code",
   "execution_count": 81,
   "metadata": {},
   "outputs": [
    {
     "name": "stdout",
     "output_type": "stream",
     "text": [
      "[OK] AutoML job started.\n"
     ]
    }
   ],
   "source": [
    "while 'AutoMLJobStatus' not in job_description_response.keys() and 'AutoMLJobSecondaryStatus' not in job_description_response.keys():\n",
    "    job_description_response = automl.describe_auto_ml_job(job_name=auto_ml_job_name)\n",
    "    print('[INFO] Autopilot job has not yet started. Please wait. ')\n",
    "    # function `json.dumps` encodes JSON string for printing.\n",
    "    print(json.dumps(job_description_response, indent=4, sort_keys=True, default=str))\n",
    "    print('[INFO] Waiting for Autopilot job to start...')\n",
    "    sleep(15)\n",
    "\n",
    "print('[OK] AutoML job started.')"
   ]
  },
  {
   "cell_type": "markdown",
   "metadata": {},
   "source": [
    "### 4.3. Review the SageMaker processing jobs\n",
    "\n",
    "The Autopilot creates required SageMaker processing jobs during the run:\n",
    "\n",
    "* First processing job (data splitter) checks the data sanity, performs stratified shuffling and splits the data into training and validation. \n",
    "* Second processing job (candidate generator) first streams through the data to compute statistics for the dataset. Then, uses these statistics to identify the problem type, and possible types of every column-predictor: numeric, categorical, natural language, etc."
   ]
  },
  {
   "cell_type": "code",
   "execution_count": 82,
   "metadata": {},
   "outputs": [
    {
     "data": {
      "text/html": [
       "<b>Review <a target=\"blank\" href=\"https://console.aws.amazon.com/sagemaker/home?region=us-east-1#/processing-jobs/\">processing jobs</a></b>"
      ],
      "text/plain": [
       "<IPython.core.display.HTML object>"
      ]
     },
     "metadata": {},
     "output_type": "display_data"
    }
   ],
   "source": [
    "from IPython.core.display import display, HTML\n",
    "\n",
    "display(HTML('<b>Review <a target=\"blank\" href=\"https://console.aws.amazon.com/sagemaker/home?region={}#/processing-jobs/\">processing jobs</a></b>'.format(region)))\n"
   ]
  },
  {
   "cell_type": "markdown",
   "metadata": {},
   "source": [
    "### 4.4. Wait for the data analysis step to finish\n",
    "\n",
    "Here you will use the same scheme as above to check the completion of the data analysis step. This step can be identified with the (primary) job status value `InProgress` and secondary job status values `Starting` and then `AnalyzingData`.\n",
    "### _This cell will take approximately 10 minutes to run._"
   ]
  },
  {
   "cell_type": "code",
   "execution_count": 83,
   "metadata": {},
   "outputs": [
    {
     "name": "stdout",
     "output_type": "stream",
     "text": [
      "InProgress AnalyzingData\n",
      "InProgress AnalyzingData\n",
      "InProgress AnalyzingData\n",
      "InProgress AnalyzingData\n",
      "InProgress AnalyzingData\n",
      "InProgress AnalyzingData\n",
      "InProgress AnalyzingData\n",
      "InProgress AnalyzingData\n",
      "InProgress AnalyzingData\n",
      "InProgress AnalyzingData\n",
      "InProgress AnalyzingData\n",
      "InProgress AnalyzingData\n",
      "InProgress AnalyzingData\n",
      "InProgress AnalyzingData\n",
      "InProgress AnalyzingData\n",
      "InProgress AnalyzingData\n",
      "InProgress AnalyzingData\n",
      "InProgress AnalyzingData\n",
      "InProgress AnalyzingData\n",
      "InProgress AnalyzingData\n",
      "InProgress AnalyzingData\n",
      "InProgress FeatureEngineering\n",
      "[OK] Data analysis phase completed.\n",
      "\n",
      "{\n",
      "    \"AutoMLJobArn\": \"arn:aws:sagemaker:us-east-1:740250289965:automl-job/automl-dm-1663599311\",\n",
      "    \"AutoMLJobArtifacts\": {\n",
      "        \"CandidateDefinitionNotebookLocation\": \"s3://sagemaker-us-east-1-740250289965/data-kalyan/autopilot/automl-dm-1663599311/sagemaker-automl-candidates/automl-dm-1663599311-pr-1-a85dd33bb4044c0bb2a42211666033cbcf8bb/notebooks/SageMakerAutopilotCandidateDefinitionNotebook.ipynb\",\n",
      "        \"DataExplorationNotebookLocation\": \"s3://sagemaker-us-east-1-740250289965/data-kalyan/autopilot/automl-dm-1663599311/sagemaker-automl-candidates/automl-dm-1663599311-pr-1-a85dd33bb4044c0bb2a42211666033cbcf8bb/notebooks/SageMakerAutopilotDataExplorationNotebook.ipynb\"\n",
      "    },\n",
      "    \"AutoMLJobConfig\": {\n",
      "        \"CompletionCriteria\": {\n",
      "            \"MaxAutoMLJobRuntimeInSeconds\": 7200,\n",
      "            \"MaxCandidates\": 3,\n",
      "            \"MaxRuntimePerTrainingJobInSeconds\": 1200\n",
      "        },\n",
      "        \"SecurityConfig\": {\n",
      "            \"EnableInterContainerTrafficEncryption\": false\n",
      "        }\n",
      "    },\n",
      "    \"AutoMLJobName\": \"automl-dm-1663599311\",\n",
      "    \"AutoMLJobSecondaryStatus\": \"FeatureEngineering\",\n",
      "    \"AutoMLJobStatus\": \"InProgress\",\n",
      "    \"CreationTime\": \"2022-09-19 14:55:21.366000+00:00\",\n",
      "    \"GenerateCandidateDefinitionsOnly\": false,\n",
      "    \"InputDataConfig\": [\n",
      "        {\n",
      "            \"ChannelType\": \"training\",\n",
      "            \"ContentType\": \"text/csv;header=present\",\n",
      "            \"DataSource\": {\n",
      "                \"S3DataSource\": {\n",
      "                    \"S3DataType\": \"S3Prefix\",\n",
      "                    \"S3Uri\": \"s3://sagemaker-us-east-1-740250289965/data-kalyan/autopilot/data/womens_clothing_ecommerce_reviews_balanced_for_autopilot.csv\"\n",
      "                }\n",
      "            },\n",
      "            \"TargetAttributeName\": \"sentiment\"\n",
      "        }\n",
      "    ],\n",
      "    \"LastModifiedTime\": \"2022-09-19 15:04:37.793000+00:00\",\n",
      "    \"OutputDataConfig\": {\n",
      "        \"S3OutputPath\": \"s3://sagemaker-us-east-1-740250289965/data-kalyan/autopilot\"\n",
      "    },\n",
      "    \"ResolvedAttributes\": {\n",
      "        \"AutoMLJobObjective\": {\n",
      "            \"MetricName\": \"Accuracy\"\n",
      "        },\n",
      "        \"CompletionCriteria\": {\n",
      "            \"MaxAutoMLJobRuntimeInSeconds\": 7200,\n",
      "            \"MaxCandidates\": 3,\n",
      "            \"MaxRuntimePerTrainingJobInSeconds\": 1200\n",
      "        },\n",
      "        \"ProblemType\": \"MulticlassClassification\"\n",
      "    },\n",
      "    \"ResponseMetadata\": {\n",
      "        \"HTTPHeaders\": {\n",
      "            \"content-length\": \"1853\",\n",
      "            \"content-type\": \"application/x-amz-json-1.1\",\n",
      "            \"date\": \"Mon, 19 Sep 2022 15:04:38 GMT\",\n",
      "            \"x-amzn-requestid\": \"722cf9a9-1479-4a8d-9f1a-456b3693c792\"\n",
      "        },\n",
      "        \"HTTPStatusCode\": 200,\n",
      "        \"RequestId\": \"722cf9a9-1479-4a8d-9f1a-456b3693c792\",\n",
      "        \"RetryAttempts\": 0\n",
      "    },\n",
      "    \"RoleArn\": \"arn:aws:iam::740250289965:role/service-role/AmazonSageMaker-ExecutionRole-20220217T160765\"\n",
      "}\n",
      "CPU times: user 305 ms, sys: 15.4 ms, total: 320 ms\n",
      "Wall time: 5min 32s\n"
     ]
    }
   ],
   "source": [
    "%%time\n",
    "\n",
    "job_status = job_description_response['AutoMLJobStatus']\n",
    "job_sec_status = job_description_response['AutoMLJobSecondaryStatus']\n",
    "\n",
    "if job_status not in ('Stopped', 'Failed'):\n",
    "    while job_status in ('InProgress') and job_sec_status in ('Starting', 'AnalyzingData'):\n",
    "        job_description_response = automl.describe_auto_ml_job(job_name=auto_ml_job_name)\n",
    "        job_status = job_description_response['AutoMLJobStatus']\n",
    "        job_sec_status = job_description_response['AutoMLJobSecondaryStatus']\n",
    "        print(job_status, job_sec_status)\n",
    "        time.sleep(15)\n",
    "    print('[OK] Data analysis phase completed.\\n')\n",
    "    \n",
    "print(json.dumps(job_description_response, indent=4, sort_keys=True, default=str))"
   ]
  },
  {
   "cell_type": "markdown",
   "metadata": {},
   "source": [
    "### 4.5. View generated notebooks\n",
    "Once data analysis is complete, SageMaker AutoPilot generates two notebooks: \n",
    "* Data exploration\n",
    "* Candidate definition\n",
    "\n",
    "Notebooks are included in the AutoML job artifacts generated during the run. Before checking the existence of the notebooks, you can check if the artifacts have been generated."
   ]
  },
  {
   "cell_type": "code",
   "execution_count": 84,
   "metadata": {},
   "outputs": [
    {
     "name": "stdout",
     "output_type": "stream",
     "text": [
      "[OK] AutoMLJobArtifacts generated.\n"
     ]
    }
   ],
   "source": [
    "job_description_response = automl.describe_auto_ml_job(job_name=auto_ml_job_name) # Replace None\n",
    "\n",
    "# keep in the while loop until the Autopilot job artifacts will be generated\n",
    "while 'AutoMLJobArtifacts' not in job_description_response.keys(): # Replace all None\n",
    "    # update the information about the running Autopilot job\n",
    "    job_description_response = automl.describe_auto_ml_job(job_name=auto_ml_job_name) # Replace None\n",
    "    print('[INFO] Autopilot job has not yet generated the artifacts. Please wait. ')\n",
    "    print(json.dumps(job_description_response, indent=4, sort_keys=True, default=str))\n",
    "    print('[INFO] Waiting for AutoMLJobArtifacts...')\n",
    "    time.sleep(15)\n",
    "\n",
    "print('[OK] AutoMLJobArtifacts generated.')"
   ]
  },
  {
   "cell_type": "code",
   "execution_count": 85,
   "metadata": {},
   "outputs": [
    {
     "data": {
      "text/plain": [
       "{'CandidateDefinitionNotebookLocation': 's3://sagemaker-us-east-1-740250289965/data-kalyan/autopilot/automl-dm-1663599311/sagemaker-automl-candidates/automl-dm-1663599311-pr-1-a85dd33bb4044c0bb2a42211666033cbcf8bb/notebooks/SageMakerAutopilotCandidateDefinitionNotebook.ipynb',\n",
       " 'DataExplorationNotebookLocation': 's3://sagemaker-us-east-1-740250289965/data-kalyan/autopilot/automl-dm-1663599311/sagemaker-automl-candidates/automl-dm-1663599311-pr-1-a85dd33bb4044c0bb2a42211666033cbcf8bb/notebooks/SageMakerAutopilotDataExplorationNotebook.ipynb'}"
      ]
     },
     "execution_count": 85,
     "metadata": {},
     "output_type": "execute_result"
    }
   ],
   "source": [
    "job_description_response['AutoMLJobArtifacts']"
   ]
  },
  {
   "cell_type": "code",
   "execution_count": 91,
   "metadata": {},
   "outputs": [
    {
     "name": "stdout",
     "output_type": "stream",
     "text": [
      "Completed\n",
      "Completed\n",
      "[OK] Feature engineering phase completed.\n",
      "\n",
      "{\n",
      "    \"AutoMLJobArn\": \"arn:aws:sagemaker:us-east-1:740250289965:automl-job/automl-dm-1663599311\",\n",
      "    \"AutoMLJobArtifacts\": {\n",
      "        \"CandidateDefinitionNotebookLocation\": \"s3://sagemaker-us-east-1-740250289965/data-kalyan/autopilot/automl-dm-1663599311/sagemaker-automl-candidates/automl-dm-1663599311-pr-1-a85dd33bb4044c0bb2a42211666033cbcf8bb/notebooks/SageMakerAutopilotCandidateDefinitionNotebook.ipynb\",\n",
      "        \"DataExplorationNotebookLocation\": \"s3://sagemaker-us-east-1-740250289965/data-kalyan/autopilot/automl-dm-1663599311/sagemaker-automl-candidates/automl-dm-1663599311-pr-1-a85dd33bb4044c0bb2a42211666033cbcf8bb/notebooks/SageMakerAutopilotDataExplorationNotebook.ipynb\"\n",
      "    },\n",
      "    \"AutoMLJobConfig\": {\n",
      "        \"CompletionCriteria\": {\n",
      "            \"MaxAutoMLJobRuntimeInSeconds\": 7200,\n",
      "            \"MaxCandidates\": 3,\n",
      "            \"MaxRuntimePerTrainingJobInSeconds\": 1200\n",
      "        },\n",
      "        \"SecurityConfig\": {\n",
      "            \"EnableInterContainerTrafficEncryption\": false\n",
      "        }\n",
      "    },\n",
      "    \"AutoMLJobName\": \"automl-dm-1663599311\",\n",
      "    \"AutoMLJobSecondaryStatus\": \"Completed\",\n",
      "    \"AutoMLJobStatus\": \"Completed\",\n",
      "    \"BestCandidate\": {\n",
      "        \"CandidateName\": \"automl-dm-1663599311mUdONubaqhhN-001-709bc605\",\n",
      "        \"CandidateProperties\": {\n",
      "            \"CandidateArtifactLocations\": {\n",
      "                \"Explainability\": \"s3://sagemaker-us-east-1-740250289965/data-kalyan/autopilot/automl-dm-1663599311/documentation/explainability/output\",\n",
      "                \"ModelInsights\": \"s3://sagemaker-us-east-1-740250289965/data-kalyan/autopilot/automl-dm-1663599311/documentation/model_monitor/output\"\n",
      "            },\n",
      "            \"CandidateMetrics\": [\n",
      "                {\n",
      "                    \"MetricName\": \"Accuracy\",\n",
      "                    \"Set\": \"Validation\",\n",
      "                    \"StandardMetricName\": \"Accuracy\",\n",
      "                    \"Value\": 0.6151900291442871\n",
      "                },\n",
      "                {\n",
      "                    \"MetricName\": \"PrecisionMacro\",\n",
      "                    \"Set\": \"Validation\",\n",
      "                    \"StandardMetricName\": \"PrecisionMacro\",\n",
      "                    \"Value\": 0.6137400269508362\n",
      "                },\n",
      "                {\n",
      "                    \"MetricName\": \"BalancedAccuracy\",\n",
      "                    \"Set\": \"Validation\",\n",
      "                    \"StandardMetricName\": \"BalancedAccuracy\",\n",
      "                    \"Value\": 0.6151900291442871\n",
      "                },\n",
      "                {\n",
      "                    \"MetricName\": \"F1macro\",\n",
      "                    \"Set\": \"Validation\",\n",
      "                    \"StandardMetricName\": \"F1macro\",\n",
      "                    \"Value\": 0.6142299771308899\n",
      "                },\n",
      "                {\n",
      "                    \"MetricName\": \"RecallMacro\",\n",
      "                    \"Set\": \"Validation\",\n",
      "                    \"StandardMetricName\": \"RecallMacro\",\n",
      "                    \"Value\": 0.6151900291442871\n",
      "                }\n",
      "            ]\n",
      "        },\n",
      "        \"CandidateStatus\": \"Completed\",\n",
      "        \"CandidateSteps\": [\n",
      "            {\n",
      "                \"CandidateStepArn\": \"arn:aws:sagemaker:us-east-1:740250289965:processing-job/automl-dm-1663599311-db-1-6e0667df70da42c4be65301c87ae089a691ca\",\n",
      "                \"CandidateStepName\": \"automl-dm-1663599311-db-1-6e0667df70da42c4be65301c87ae089a691ca\",\n",
      "                \"CandidateStepType\": \"AWS::SageMaker::ProcessingJob\"\n",
      "            },\n",
      "            {\n",
      "                \"CandidateStepArn\": \"arn:aws:sagemaker:us-east-1:740250289965:training-job/automl-dm-1663599311-dpp2-1-4efa85c689d8417eab1f572a473d4ce55e1\",\n",
      "                \"CandidateStepName\": \"automl-dm-1663599311-dpp2-1-4efa85c689d8417eab1f572a473d4ce55e1\",\n",
      "                \"CandidateStepType\": \"AWS::SageMaker::TrainingJob\"\n",
      "            },\n",
      "            {\n",
      "                \"CandidateStepArn\": \"arn:aws:sagemaker:us-east-1:740250289965:transform-job/automl-dm-1663599311-dpp2-rpb-1-db97e9ae151949d38820d1692856f3c\",\n",
      "                \"CandidateStepName\": \"automl-dm-1663599311-dpp2-rpb-1-db97e9ae151949d38820d1692856f3c\",\n",
      "                \"CandidateStepType\": \"AWS::SageMaker::TransformJob\"\n",
      "            },\n",
      "            {\n",
      "                \"CandidateStepArn\": \"arn:aws:sagemaker:us-east-1:740250289965:training-job/automl-dm-1663599311mudonubaqhhn-001-709bc605\",\n",
      "                \"CandidateStepName\": \"automl-dm-1663599311mUdONubaqhhN-001-709bc605\",\n",
      "                \"CandidateStepType\": \"AWS::SageMaker::TrainingJob\"\n",
      "            }\n",
      "        ],\n",
      "        \"CreationTime\": \"2022-09-19 15:15:19+00:00\",\n",
      "        \"EndTime\": \"2022-09-19 15:17:37+00:00\",\n",
      "        \"FinalAutoMLJobObjectiveMetric\": {\n",
      "            \"MetricName\": \"validation:accuracy\",\n",
      "            \"Value\": 0.6151900291442871\n",
      "        },\n",
      "        \"InferenceContainers\": [\n",
      "            {\n",
      "                \"Environment\": {\n",
      "                    \"AUTOML_SPARSE_ENCODE_RECORDIO_PROTOBUF\": \"1\",\n",
      "                    \"AUTOML_TRANSFORM_MODE\": \"feature-transform\",\n",
      "                    \"SAGEMAKER_DEFAULT_INVOCATIONS_ACCEPT\": \"application/x-recordio-protobuf\",\n",
      "                    \"SAGEMAKER_PROGRAM\": \"sagemaker_serve\",\n",
      "                    \"SAGEMAKER_SUBMIT_DIRECTORY\": \"/opt/ml/model/code\"\n",
      "                },\n",
      "                \"Image\": \"683313688378.dkr.ecr.us-east-1.amazonaws.com/sagemaker-sklearn-automl:2.5-1-cpu-py3\",\n",
      "                \"ModelDataUrl\": \"s3://sagemaker-us-east-1-740250289965/data-kalyan/autopilot/automl-dm-1663599311/data-processor-models/automl-dm-1663599311-dpp2-1-4efa85c689d8417eab1f572a473d4ce55e1/output/model.tar.gz\"\n",
      "            },\n",
      "            {\n",
      "                \"Environment\": {\n",
      "                    \"MAX_CONTENT_LENGTH\": \"20971520\",\n",
      "                    \"SAGEMAKER_DEFAULT_INVOCATIONS_ACCEPT\": \"text/csv\",\n",
      "                    \"SAGEMAKER_INFERENCE_OUTPUT\": \"predicted_label\",\n",
      "                    \"SAGEMAKER_INFERENCE_SUPPORTED\": \"predicted_label,probability,probabilities\"\n",
      "                },\n",
      "                \"Image\": \"683313688378.dkr.ecr.us-east-1.amazonaws.com/sagemaker-xgboost:1.3-1-cpu-py3\",\n",
      "                \"ModelDataUrl\": \"s3://sagemaker-us-east-1-740250289965/data-kalyan/autopilot/automl-dm-1663599311/tuning/automl-dm--dpp2-xgb/automl-dm-1663599311mUdONubaqhhN-001-709bc605/output/model.tar.gz\"\n",
      "            },\n",
      "            {\n",
      "                \"Environment\": {\n",
      "                    \"AUTOML_TRANSFORM_MODE\": \"inverse-label-transform\",\n",
      "                    \"SAGEMAKER_DEFAULT_INVOCATIONS_ACCEPT\": \"text/csv\",\n",
      "                    \"SAGEMAKER_INFERENCE_INPUT\": \"predicted_label\",\n",
      "                    \"SAGEMAKER_INFERENCE_OUTPUT\": \"predicted_label\",\n",
      "                    \"SAGEMAKER_INFERENCE_SUPPORTED\": \"predicted_label,probability,labels,probabilities\",\n",
      "                    \"SAGEMAKER_PROGRAM\": \"sagemaker_serve\",\n",
      "                    \"SAGEMAKER_SUBMIT_DIRECTORY\": \"/opt/ml/model/code\"\n",
      "                },\n",
      "                \"Image\": \"683313688378.dkr.ecr.us-east-1.amazonaws.com/sagemaker-sklearn-automl:2.5-1-cpu-py3\",\n",
      "                \"ModelDataUrl\": \"s3://sagemaker-us-east-1-740250289965/data-kalyan/autopilot/automl-dm-1663599311/data-processor-models/automl-dm-1663599311-dpp2-1-4efa85c689d8417eab1f572a473d4ce55e1/output/model.tar.gz\"\n",
      "            }\n",
      "        ],\n",
      "        \"LastModifiedTime\": \"2022-09-19 15:24:19.653000+00:00\",\n",
      "        \"ObjectiveStatus\": \"Succeeded\"\n",
      "    },\n",
      "    \"CreationTime\": \"2022-09-19 14:55:21.366000+00:00\",\n",
      "    \"EndTime\": \"2022-09-19 15:33:14.900000+00:00\",\n",
      "    \"GenerateCandidateDefinitionsOnly\": false,\n",
      "    \"InputDataConfig\": [\n",
      "        {\n",
      "            \"ChannelType\": \"training\",\n",
      "            \"ContentType\": \"text/csv;header=present\",\n",
      "            \"DataSource\": {\n",
      "                \"S3DataSource\": {\n",
      "                    \"S3DataType\": \"S3Prefix\",\n",
      "                    \"S3Uri\": \"s3://sagemaker-us-east-1-740250289965/data-kalyan/autopilot/data/womens_clothing_ecommerce_reviews_balanced_for_autopilot.csv\"\n",
      "                }\n",
      "            },\n",
      "            \"TargetAttributeName\": \"sentiment\"\n",
      "        }\n",
      "    ],\n",
      "    \"LastModifiedTime\": \"2022-09-19 15:33:14.947000+00:00\",\n",
      "    \"OutputDataConfig\": {\n",
      "        \"S3OutputPath\": \"s3://sagemaker-us-east-1-740250289965/data-kalyan/autopilot\"\n",
      "    },\n",
      "    \"ResolvedAttributes\": {\n",
      "        \"AutoMLJobObjective\": {\n",
      "            \"MetricName\": \"Accuracy\"\n",
      "        },\n",
      "        \"CompletionCriteria\": {\n",
      "            \"MaxAutoMLJobRuntimeInSeconds\": 7200,\n",
      "            \"MaxCandidates\": 3,\n",
      "            \"MaxRuntimePerTrainingJobInSeconds\": 1200\n",
      "        },\n",
      "        \"ProblemType\": \"MulticlassClassification\"\n",
      "    },\n",
      "    \"ResponseMetadata\": {\n",
      "        \"HTTPHeaders\": {\n",
      "            \"content-length\": \"6018\",\n",
      "            \"content-type\": \"application/x-amz-json-1.1\",\n",
      "            \"date\": \"Mon, 19 Sep 2022 15:43:02 GMT\",\n",
      "            \"x-amzn-requestid\": \"eaeeb82a-c0de-4ecf-a6c5-311f55e7167b\"\n",
      "        },\n",
      "        \"HTTPStatusCode\": 200,\n",
      "        \"RequestId\": \"eaeeb82a-c0de-4ecf-a6c5-311f55e7167b\",\n",
      "        \"RetryAttempts\": 0\n",
      "    },\n",
      "    \"RoleArn\": \"arn:aws:iam::740250289965:role/service-role/AmazonSageMaker-ExecutionRole-20220217T160765\"\n",
      "}\n",
      "CPU times: user 10.1 ms, sys: 7.84 ms, total: 18 ms\n",
      "Wall time: 108 ms\n"
     ]
    }
   ],
   "source": [
    "%%time\n",
    "\n",
    "job_description_response = automl.describe_auto_ml_job(job_name=auto_ml_job_name)\n",
    "job_status = job_description_response['AutoMLJobStatus']\n",
    "job_sec_status = job_description_response['AutoMLJobSecondaryStatus']\n",
    "print(job_status)\n",
    "print(job_sec_status)\n",
    "if job_status not in ('Stopped', 'Failed'):\n",
    "    while job_status in ('InProgress') and job_sec_status in ('FeatureEngineering'): # Replace all None\n",
    "\n",
    "        job_description_response = automl.describe_auto_ml_job(job_name=auto_ml_job_name)\n",
    "        job_status = job_description_response['AutoMLJobStatus']\n",
    "        job_sec_status = job_description_response['AutoMLJobSecondaryStatus']\n",
    "        print(job_status, job_sec_status)\n",
    "        time.sleep(5)\n",
    "    print('[OK] Feature engineering phase completed.\\n')\n",
    "    \n",
    "print(json.dumps(job_description_response, indent=4, sort_keys=True, default=str))"
   ]
  },
  {
   "cell_type": "code",
   "execution_count": 92,
   "metadata": {},
   "outputs": [
    {
     "name": "stdout",
     "output_type": "stream",
     "text": [
      "Completed\n",
      "Completed\n",
      "[OK] Model tuning phase completed.\n",
      "\n",
      "{\n",
      "    \"AutoMLJobArn\": \"arn:aws:sagemaker:us-east-1:740250289965:automl-job/automl-dm-1663599311\",\n",
      "    \"AutoMLJobArtifacts\": {\n",
      "        \"CandidateDefinitionNotebookLocation\": \"s3://sagemaker-us-east-1-740250289965/data-kalyan/autopilot/automl-dm-1663599311/sagemaker-automl-candidates/automl-dm-1663599311-pr-1-a85dd33bb4044c0bb2a42211666033cbcf8bb/notebooks/SageMakerAutopilotCandidateDefinitionNotebook.ipynb\",\n",
      "        \"DataExplorationNotebookLocation\": \"s3://sagemaker-us-east-1-740250289965/data-kalyan/autopilot/automl-dm-1663599311/sagemaker-automl-candidates/automl-dm-1663599311-pr-1-a85dd33bb4044c0bb2a42211666033cbcf8bb/notebooks/SageMakerAutopilotDataExplorationNotebook.ipynb\"\n",
      "    },\n",
      "    \"AutoMLJobConfig\": {\n",
      "        \"CompletionCriteria\": {\n",
      "            \"MaxAutoMLJobRuntimeInSeconds\": 7200,\n",
      "            \"MaxCandidates\": 3,\n",
      "            \"MaxRuntimePerTrainingJobInSeconds\": 1200\n",
      "        },\n",
      "        \"SecurityConfig\": {\n",
      "            \"EnableInterContainerTrafficEncryption\": false\n",
      "        }\n",
      "    },\n",
      "    \"AutoMLJobName\": \"automl-dm-1663599311\",\n",
      "    \"AutoMLJobSecondaryStatus\": \"Completed\",\n",
      "    \"AutoMLJobStatus\": \"Completed\",\n",
      "    \"BestCandidate\": {\n",
      "        \"CandidateName\": \"automl-dm-1663599311mUdONubaqhhN-001-709bc605\",\n",
      "        \"CandidateProperties\": {\n",
      "            \"CandidateArtifactLocations\": {\n",
      "                \"Explainability\": \"s3://sagemaker-us-east-1-740250289965/data-kalyan/autopilot/automl-dm-1663599311/documentation/explainability/output\",\n",
      "                \"ModelInsights\": \"s3://sagemaker-us-east-1-740250289965/data-kalyan/autopilot/automl-dm-1663599311/documentation/model_monitor/output\"\n",
      "            },\n",
      "            \"CandidateMetrics\": [\n",
      "                {\n",
      "                    \"MetricName\": \"Accuracy\",\n",
      "                    \"Set\": \"Validation\",\n",
      "                    \"StandardMetricName\": \"Accuracy\",\n",
      "                    \"Value\": 0.6151900291442871\n",
      "                },\n",
      "                {\n",
      "                    \"MetricName\": \"PrecisionMacro\",\n",
      "                    \"Set\": \"Validation\",\n",
      "                    \"StandardMetricName\": \"PrecisionMacro\",\n",
      "                    \"Value\": 0.6137400269508362\n",
      "                },\n",
      "                {\n",
      "                    \"MetricName\": \"BalancedAccuracy\",\n",
      "                    \"Set\": \"Validation\",\n",
      "                    \"StandardMetricName\": \"BalancedAccuracy\",\n",
      "                    \"Value\": 0.6151900291442871\n",
      "                },\n",
      "                {\n",
      "                    \"MetricName\": \"F1macro\",\n",
      "                    \"Set\": \"Validation\",\n",
      "                    \"StandardMetricName\": \"F1macro\",\n",
      "                    \"Value\": 0.6142299771308899\n",
      "                },\n",
      "                {\n",
      "                    \"MetricName\": \"RecallMacro\",\n",
      "                    \"Set\": \"Validation\",\n",
      "                    \"StandardMetricName\": \"RecallMacro\",\n",
      "                    \"Value\": 0.6151900291442871\n",
      "                }\n",
      "            ]\n",
      "        },\n",
      "        \"CandidateStatus\": \"Completed\",\n",
      "        \"CandidateSteps\": [\n",
      "            {\n",
      "                \"CandidateStepArn\": \"arn:aws:sagemaker:us-east-1:740250289965:processing-job/automl-dm-1663599311-db-1-6e0667df70da42c4be65301c87ae089a691ca\",\n",
      "                \"CandidateStepName\": \"automl-dm-1663599311-db-1-6e0667df70da42c4be65301c87ae089a691ca\",\n",
      "                \"CandidateStepType\": \"AWS::SageMaker::ProcessingJob\"\n",
      "            },\n",
      "            {\n",
      "                \"CandidateStepArn\": \"arn:aws:sagemaker:us-east-1:740250289965:training-job/automl-dm-1663599311-dpp2-1-4efa85c689d8417eab1f572a473d4ce55e1\",\n",
      "                \"CandidateStepName\": \"automl-dm-1663599311-dpp2-1-4efa85c689d8417eab1f572a473d4ce55e1\",\n",
      "                \"CandidateStepType\": \"AWS::SageMaker::TrainingJob\"\n",
      "            },\n",
      "            {\n",
      "                \"CandidateStepArn\": \"arn:aws:sagemaker:us-east-1:740250289965:transform-job/automl-dm-1663599311-dpp2-rpb-1-db97e9ae151949d38820d1692856f3c\",\n",
      "                \"CandidateStepName\": \"automl-dm-1663599311-dpp2-rpb-1-db97e9ae151949d38820d1692856f3c\",\n",
      "                \"CandidateStepType\": \"AWS::SageMaker::TransformJob\"\n",
      "            },\n",
      "            {\n",
      "                \"CandidateStepArn\": \"arn:aws:sagemaker:us-east-1:740250289965:training-job/automl-dm-1663599311mudonubaqhhn-001-709bc605\",\n",
      "                \"CandidateStepName\": \"automl-dm-1663599311mUdONubaqhhN-001-709bc605\",\n",
      "                \"CandidateStepType\": \"AWS::SageMaker::TrainingJob\"\n",
      "            }\n",
      "        ],\n",
      "        \"CreationTime\": \"2022-09-19 15:15:19+00:00\",\n",
      "        \"EndTime\": \"2022-09-19 15:17:37+00:00\",\n",
      "        \"FinalAutoMLJobObjectiveMetric\": {\n",
      "            \"MetricName\": \"validation:accuracy\",\n",
      "            \"Value\": 0.6151900291442871\n",
      "        },\n",
      "        \"InferenceContainers\": [\n",
      "            {\n",
      "                \"Environment\": {\n",
      "                    \"AUTOML_SPARSE_ENCODE_RECORDIO_PROTOBUF\": \"1\",\n",
      "                    \"AUTOML_TRANSFORM_MODE\": \"feature-transform\",\n",
      "                    \"SAGEMAKER_DEFAULT_INVOCATIONS_ACCEPT\": \"application/x-recordio-protobuf\",\n",
      "                    \"SAGEMAKER_PROGRAM\": \"sagemaker_serve\",\n",
      "                    \"SAGEMAKER_SUBMIT_DIRECTORY\": \"/opt/ml/model/code\"\n",
      "                },\n",
      "                \"Image\": \"683313688378.dkr.ecr.us-east-1.amazonaws.com/sagemaker-sklearn-automl:2.5-1-cpu-py3\",\n",
      "                \"ModelDataUrl\": \"s3://sagemaker-us-east-1-740250289965/data-kalyan/autopilot/automl-dm-1663599311/data-processor-models/automl-dm-1663599311-dpp2-1-4efa85c689d8417eab1f572a473d4ce55e1/output/model.tar.gz\"\n",
      "            },\n",
      "            {\n",
      "                \"Environment\": {\n",
      "                    \"MAX_CONTENT_LENGTH\": \"20971520\",\n",
      "                    \"SAGEMAKER_DEFAULT_INVOCATIONS_ACCEPT\": \"text/csv\",\n",
      "                    \"SAGEMAKER_INFERENCE_OUTPUT\": \"predicted_label\",\n",
      "                    \"SAGEMAKER_INFERENCE_SUPPORTED\": \"predicted_label,probability,probabilities\"\n",
      "                },\n",
      "                \"Image\": \"683313688378.dkr.ecr.us-east-1.amazonaws.com/sagemaker-xgboost:1.3-1-cpu-py3\",\n",
      "                \"ModelDataUrl\": \"s3://sagemaker-us-east-1-740250289965/data-kalyan/autopilot/automl-dm-1663599311/tuning/automl-dm--dpp2-xgb/automl-dm-1663599311mUdONubaqhhN-001-709bc605/output/model.tar.gz\"\n",
      "            },\n",
      "            {\n",
      "                \"Environment\": {\n",
      "                    \"AUTOML_TRANSFORM_MODE\": \"inverse-label-transform\",\n",
      "                    \"SAGEMAKER_DEFAULT_INVOCATIONS_ACCEPT\": \"text/csv\",\n",
      "                    \"SAGEMAKER_INFERENCE_INPUT\": \"predicted_label\",\n",
      "                    \"SAGEMAKER_INFERENCE_OUTPUT\": \"predicted_label\",\n",
      "                    \"SAGEMAKER_INFERENCE_SUPPORTED\": \"predicted_label,probability,labels,probabilities\",\n",
      "                    \"SAGEMAKER_PROGRAM\": \"sagemaker_serve\",\n",
      "                    \"SAGEMAKER_SUBMIT_DIRECTORY\": \"/opt/ml/model/code\"\n",
      "                },\n",
      "                \"Image\": \"683313688378.dkr.ecr.us-east-1.amazonaws.com/sagemaker-sklearn-automl:2.5-1-cpu-py3\",\n",
      "                \"ModelDataUrl\": \"s3://sagemaker-us-east-1-740250289965/data-kalyan/autopilot/automl-dm-1663599311/data-processor-models/automl-dm-1663599311-dpp2-1-4efa85c689d8417eab1f572a473d4ce55e1/output/model.tar.gz\"\n",
      "            }\n",
      "        ],\n",
      "        \"LastModifiedTime\": \"2022-09-19 15:24:19.653000+00:00\",\n",
      "        \"ObjectiveStatus\": \"Succeeded\"\n",
      "    },\n",
      "    \"CreationTime\": \"2022-09-19 14:55:21.366000+00:00\",\n",
      "    \"EndTime\": \"2022-09-19 15:33:14.900000+00:00\",\n",
      "    \"GenerateCandidateDefinitionsOnly\": false,\n",
      "    \"InputDataConfig\": [\n",
      "        {\n",
      "            \"ChannelType\": \"training\",\n",
      "            \"ContentType\": \"text/csv;header=present\",\n",
      "            \"DataSource\": {\n",
      "                \"S3DataSource\": {\n",
      "                    \"S3DataType\": \"S3Prefix\",\n",
      "                    \"S3Uri\": \"s3://sagemaker-us-east-1-740250289965/data-kalyan/autopilot/data/womens_clothing_ecommerce_reviews_balanced_for_autopilot.csv\"\n",
      "                }\n",
      "            },\n",
      "            \"TargetAttributeName\": \"sentiment\"\n",
      "        }\n",
      "    ],\n",
      "    \"LastModifiedTime\": \"2022-09-19 15:33:14.947000+00:00\",\n",
      "    \"OutputDataConfig\": {\n",
      "        \"S3OutputPath\": \"s3://sagemaker-us-east-1-740250289965/data-kalyan/autopilot\"\n",
      "    },\n",
      "    \"ResolvedAttributes\": {\n",
      "        \"AutoMLJobObjective\": {\n",
      "            \"MetricName\": \"Accuracy\"\n",
      "        },\n",
      "        \"CompletionCriteria\": {\n",
      "            \"MaxAutoMLJobRuntimeInSeconds\": 7200,\n",
      "            \"MaxCandidates\": 3,\n",
      "            \"MaxRuntimePerTrainingJobInSeconds\": 1200\n",
      "        },\n",
      "        \"ProblemType\": \"MulticlassClassification\"\n",
      "    },\n",
      "    \"ResponseMetadata\": {\n",
      "        \"HTTPHeaders\": {\n",
      "            \"content-length\": \"6018\",\n",
      "            \"content-type\": \"application/x-amz-json-1.1\",\n",
      "            \"date\": \"Mon, 19 Sep 2022 15:46:02 GMT\",\n",
      "            \"x-amzn-requestid\": \"dbade911-9585-4aab-bdf6-c0655297694b\"\n",
      "        },\n",
      "        \"HTTPStatusCode\": 200,\n",
      "        \"RequestId\": \"dbade911-9585-4aab-bdf6-c0655297694b\",\n",
      "        \"RetryAttempts\": 0\n",
      "    },\n",
      "    \"RoleArn\": \"arn:aws:iam::740250289965:role/service-role/AmazonSageMaker-ExecutionRole-20220217T160765\"\n",
      "}\n",
      "CPU times: user 15.8 ms, sys: 276 µs, total: 16 ms\n",
      "Wall time: 205 ms\n"
     ]
    }
   ],
   "source": [
    "%%time\n",
    "\n",
    "job_description_response = automl.describe_auto_ml_job(job_name=auto_ml_job_name)\n",
    "job_status = job_description_response['AutoMLJobStatus']\n",
    "job_sec_status = job_description_response['AutoMLJobSecondaryStatus']\n",
    "print(job_status)\n",
    "print(job_sec_status)\n",
    "if job_status not in ('Stopped', 'Failed'):\n",
    "    ### BEGIN SOLUTION - DO NOT delete this comment for grading purposes\n",
    "    while job_status in ('InProgress') and job_sec_status in ('ModelTuning'): # Replace all None\n",
    "    ### END SOLUTION - DO NOT delete this comment for grading purposes\n",
    "        job_description_response = automl.describe_auto_ml_job(job_name=auto_ml_job_name)\n",
    "        job_status = job_description_response['AutoMLJobStatus']\n",
    "        job_sec_status = job_description_response['AutoMLJobSecondaryStatus']\n",
    "        print(job_status, job_sec_status)\n",
    "        time.sleep(5)\n",
    "    print('[OK] Model tuning phase completed.\\n')\n",
    "    \n",
    "print(json.dumps(job_description_response, indent=4, sort_keys=True, default=str))"
   ]
  },
  {
   "cell_type": "markdown",
   "metadata": {},
   "source": [
    "### 6.2. Compare model candidates\n",
    "Once model tuning is complete, you can view all the candidates (pipeline evaluations with different hyperparameter combinations) that were explored by AutoML and sort them by their final performance metric."
   ]
  },
  {
   "cell_type": "code",
   "execution_count": 93,
   "metadata": {},
   "outputs": [],
   "source": [
    "candidates = automl.list_candidates(\n",
    "    ### BEGIN SOLUTION - DO NOT delete this comment for grading purposes\n",
    "    job_name=auto_ml_job_name # Replace None\n",
    "    #sort_by='FinalObjectiveMetric' # Replace None\n",
    "    ### END SOLUTION - DO NOT delete this comment for grading purposes\n",
    ")"
   ]
  },
  {
   "cell_type": "code",
   "execution_count": 94,
   "metadata": {},
   "outputs": [
    {
     "name": "stdout",
     "output_type": "stream",
     "text": [
      "[OK] Candidates generated.\n"
     ]
    }
   ],
   "source": [
    "while candidates == []:\n",
    "    candidates = automl.list_candidates(job_name=auto_ml_job_name)\n",
    "    print('[INFO] Autopilot job is generating the candidates. Please wait.')\n",
    "    time.sleep(10)\n",
    "\n",
    "print('[OK] Candidates generated.') "
   ]
  },
  {
   "cell_type": "code",
   "execution_count": 95,
   "metadata": {},
   "outputs": [
    {
     "name": "stdout",
     "output_type": "stream",
     "text": [
      "dict_keys(['CandidateName', 'FinalAutoMLJobObjectiveMetric', 'ObjectiveStatus', 'CandidateSteps', 'CandidateStatus', 'InferenceContainers', 'CreationTime', 'EndTime', 'LastModifiedTime', 'CandidateProperties'])\n"
     ]
    }
   ],
   "source": [
    "print(candidates[0].keys())"
   ]
  },
  {
   "cell_type": "code",
   "execution_count": 97,
   "metadata": {},
   "outputs": [
    {
     "name": "stdout",
     "output_type": "stream",
     "text": [
      "dict_values(['automl-dm-1663599311mUdONubaqhhN-003-a2aaf670', {'MetricName': 'validation:accuracy', 'Value': 0.5974699854850769}, 'Succeeded', [{'CandidateStepType': 'AWS::SageMaker::ProcessingJob', 'CandidateStepArn': 'arn:aws:sagemaker:us-east-1:740250289965:processing-job/automl-dm-1663599311-db-1-6e0667df70da42c4be65301c87ae089a691ca', 'CandidateStepName': 'automl-dm-1663599311-db-1-6e0667df70da42c4be65301c87ae089a691ca'}, {'CandidateStepType': 'AWS::SageMaker::TrainingJob', 'CandidateStepArn': 'arn:aws:sagemaker:us-east-1:740250289965:training-job/automl-dm-1663599311-dpp0-1-be32e56140754bc29c5e921d6075668d16a', 'CandidateStepName': 'automl-dm-1663599311-dpp0-1-be32e56140754bc29c5e921d6075668d16a'}, {'CandidateStepType': 'AWS::SageMaker::TransformJob', 'CandidateStepArn': 'arn:aws:sagemaker:us-east-1:740250289965:transform-job/automl-dm-1663599311-dpp0-rpb-1-a4f107b904d74a84b9b91643b08559c', 'CandidateStepName': 'automl-dm-1663599311-dpp0-rpb-1-a4f107b904d74a84b9b91643b08559c'}, {'CandidateStepType': 'AWS::SageMaker::TrainingJob', 'CandidateStepArn': 'arn:aws:sagemaker:us-east-1:740250289965:training-job/automl-dm-1663599311mudonubaqhhn-003-a2aaf670', 'CandidateStepName': 'automl-dm-1663599311mUdONubaqhhN-003-a2aaf670'}], 'Completed', [{'Image': '683313688378.dkr.ecr.us-east-1.amazonaws.com/sagemaker-sklearn-automl:2.5-1-cpu-py3', 'ModelDataUrl': 's3://sagemaker-us-east-1-740250289965/data-kalyan/autopilot/automl-dm-1663599311/data-processor-models/automl-dm-1663599311-dpp0-1-be32e56140754bc29c5e921d6075668d16a/output/model.tar.gz', 'Environment': {'AUTOML_SPARSE_ENCODE_RECORDIO_PROTOBUF': '1', 'AUTOML_TRANSFORM_MODE': 'feature-transform', 'SAGEMAKER_DEFAULT_INVOCATIONS_ACCEPT': 'application/x-recordio-protobuf', 'SAGEMAKER_PROGRAM': 'sagemaker_serve', 'SAGEMAKER_SUBMIT_DIRECTORY': '/opt/ml/model/code'}}, {'Image': '683313688378.dkr.ecr.us-east-1.amazonaws.com/sagemaker-xgboost:1.3-1-cpu-py3', 'ModelDataUrl': 's3://sagemaker-us-east-1-740250289965/data-kalyan/autopilot/automl-dm-1663599311/tuning/automl-dm--dpp0-xgb/automl-dm-1663599311mUdONubaqhhN-003-a2aaf670/output/model.tar.gz', 'Environment': {'MAX_CONTENT_LENGTH': '20971520', 'SAGEMAKER_DEFAULT_INVOCATIONS_ACCEPT': 'text/csv', 'SAGEMAKER_INFERENCE_OUTPUT': 'predicted_label', 'SAGEMAKER_INFERENCE_SUPPORTED': 'predicted_label,probability,probabilities'}}, {'Image': '683313688378.dkr.ecr.us-east-1.amazonaws.com/sagemaker-sklearn-automl:2.5-1-cpu-py3', 'ModelDataUrl': 's3://sagemaker-us-east-1-740250289965/data-kalyan/autopilot/automl-dm-1663599311/data-processor-models/automl-dm-1663599311-dpp0-1-be32e56140754bc29c5e921d6075668d16a/output/model.tar.gz', 'Environment': {'AUTOML_TRANSFORM_MODE': 'inverse-label-transform', 'SAGEMAKER_DEFAULT_INVOCATIONS_ACCEPT': 'text/csv', 'SAGEMAKER_INFERENCE_INPUT': 'predicted_label', 'SAGEMAKER_INFERENCE_OUTPUT': 'predicted_label', 'SAGEMAKER_INFERENCE_SUPPORTED': 'predicted_label,probability,labels,probabilities', 'SAGEMAKER_PROGRAM': 'sagemaker_serve', 'SAGEMAKER_SUBMIT_DIRECTORY': '/opt/ml/model/code'}}], datetime.datetime(2022, 9, 19, 15, 15, 29, tzinfo=tzlocal()), datetime.datetime(2022, 9, 19, 15, 23, 18, tzinfo=tzlocal()), datetime.datetime(2022, 9, 19, 15, 24, 2, 5000, tzinfo=tzlocal()), {'CandidateMetrics': [{'MetricName': 'Accuracy', 'Value': 0.5974699854850769, 'Set': 'Validation', 'StandardMetricName': 'Accuracy'}, {'MetricName': 'PrecisionMacro', 'Value': 0.595770001411438, 'Set': 'Validation', 'StandardMetricName': 'PrecisionMacro'}, {'MetricName': 'BalancedAccuracy', 'Value': 0.5974699854850769, 'Set': 'Validation', 'StandardMetricName': 'BalancedAccuracy'}, {'MetricName': 'F1macro', 'Value': 0.5958399772644043, 'Set': 'Validation', 'StandardMetricName': 'F1macro'}, {'MetricName': 'RecallMacro', 'Value': 0.5974699854850769, 'Set': 'Validation', 'StandardMetricName': 'RecallMacro'}]}])\n"
     ]
    }
   ],
   "source": [
    "print(candidates[0].values())"
   ]
  },
  {
   "cell_type": "code",
   "execution_count": 98,
   "metadata": {},
   "outputs": [
    {
     "name": "stdout",
     "output_type": "stream",
     "text": [
      "[OK] CandidateName generated.\n"
     ]
    }
   ],
   "source": [
    "while 'CandidateName' not in candidates[0]:\n",
    "    candidates = automl.list_candidates(job_name=auto_ml_job_name)\n",
    "    print('[INFO] Autopilot job is generating CandidateName. Please wait. ')\n",
    "    sleep(10)\n",
    "\n",
    "print('[OK] CandidateName generated.')"
   ]
  },
  {
   "cell_type": "code",
   "execution_count": 99,
   "metadata": {},
   "outputs": [
    {
     "name": "stdout",
     "output_type": "stream",
     "text": [
      "[OK] FinalAutoMLJobObjectiveMetric generated.\n"
     ]
    }
   ],
   "source": [
    "while 'FinalAutoMLJobObjectiveMetric' not in candidates[0]:\n",
    "    candidates = automl.list_candidates(job_name=auto_ml_job_name)\n",
    "    print('[INFO] Autopilot job is generating FinalAutoMLJobObjectiveMetric. Please wait. ')\n",
    "    sleep(10)\n",
    "\n",
    "print('[OK] FinalAutoMLJobObjectiveMetric generated.')"
   ]
  },
  {
   "cell_type": "code",
   "execution_count": 100,
   "metadata": {},
   "outputs": [
    {
     "name": "stdout",
     "output_type": "stream",
     "text": [
      "[\n",
      "    {\n",
      "        \"CandidateName\": \"automl-dm-1663599311mUdONubaqhhN-003-a2aaf670\",\n",
      "        \"CandidateProperties\": {\n",
      "            \"CandidateMetrics\": [\n",
      "                {\n",
      "                    \"MetricName\": \"Accuracy\",\n",
      "                    \"Set\": \"Validation\",\n",
      "                    \"StandardMetricName\": \"Accuracy\",\n",
      "                    \"Value\": 0.5974699854850769\n",
      "                },\n",
      "                {\n",
      "                    \"MetricName\": \"PrecisionMacro\",\n",
      "                    \"Set\": \"Validation\",\n",
      "                    \"StandardMetricName\": \"PrecisionMacro\",\n",
      "                    \"Value\": 0.595770001411438\n",
      "                },\n",
      "                {\n",
      "                    \"MetricName\": \"BalancedAccuracy\",\n",
      "                    \"Set\": \"Validation\",\n",
      "                    \"StandardMetricName\": \"BalancedAccuracy\",\n",
      "                    \"Value\": 0.5974699854850769\n",
      "                },\n",
      "                {\n",
      "                    \"MetricName\": \"F1macro\",\n",
      "                    \"Set\": \"Validation\",\n",
      "                    \"StandardMetricName\": \"F1macro\",\n",
      "                    \"Value\": 0.5958399772644043\n",
      "                },\n",
      "                {\n",
      "                    \"MetricName\": \"RecallMacro\",\n",
      "                    \"Set\": \"Validation\",\n",
      "                    \"StandardMetricName\": \"RecallMacro\",\n",
      "                    \"Value\": 0.5974699854850769\n",
      "                }\n",
      "            ]\n",
      "        },\n",
      "        \"CandidateStatus\": \"Completed\",\n",
      "        \"CandidateSteps\": [\n",
      "            {\n",
      "                \"CandidateStepArn\": \"arn:aws:sagemaker:us-east-1:740250289965:processing-job/automl-dm-1663599311-db-1-6e0667df70da42c4be65301c87ae089a691ca\",\n",
      "                \"CandidateStepName\": \"automl-dm-1663599311-db-1-6e0667df70da42c4be65301c87ae089a691ca\",\n",
      "                \"CandidateStepType\": \"AWS::SageMaker::ProcessingJob\"\n",
      "            },\n",
      "            {\n",
      "                \"CandidateStepArn\": \"arn:aws:sagemaker:us-east-1:740250289965:training-job/automl-dm-1663599311-dpp0-1-be32e56140754bc29c5e921d6075668d16a\",\n",
      "                \"CandidateStepName\": \"automl-dm-1663599311-dpp0-1-be32e56140754bc29c5e921d6075668d16a\",\n",
      "                \"CandidateStepType\": \"AWS::SageMaker::TrainingJob\"\n",
      "            },\n",
      "            {\n",
      "                \"CandidateStepArn\": \"arn:aws:sagemaker:us-east-1:740250289965:transform-job/automl-dm-1663599311-dpp0-rpb-1-a4f107b904d74a84b9b91643b08559c\",\n",
      "                \"CandidateStepName\": \"automl-dm-1663599311-dpp0-rpb-1-a4f107b904d74a84b9b91643b08559c\",\n",
      "                \"CandidateStepType\": \"AWS::SageMaker::TransformJob\"\n",
      "            },\n",
      "            {\n",
      "                \"CandidateStepArn\": \"arn:aws:sagemaker:us-east-1:740250289965:training-job/automl-dm-1663599311mudonubaqhhn-003-a2aaf670\",\n",
      "                \"CandidateStepName\": \"automl-dm-1663599311mUdONubaqhhN-003-a2aaf670\",\n",
      "                \"CandidateStepType\": \"AWS::SageMaker::TrainingJob\"\n",
      "            }\n",
      "        ],\n",
      "        \"CreationTime\": \"2022-09-19 15:15:29+00:00\",\n",
      "        \"EndTime\": \"2022-09-19 15:23:18+00:00\",\n",
      "        \"FinalAutoMLJobObjectiveMetric\": {\n",
      "            \"MetricName\": \"validation:accuracy\",\n",
      "            \"Value\": 0.5974699854850769\n",
      "        },\n",
      "        \"InferenceContainers\": [\n",
      "            {\n",
      "                \"Environment\": {\n",
      "                    \"AUTOML_SPARSE_ENCODE_RECORDIO_PROTOBUF\": \"1\",\n",
      "                    \"AUTOML_TRANSFORM_MODE\": \"feature-transform\",\n",
      "                    \"SAGEMAKER_DEFAULT_INVOCATIONS_ACCEPT\": \"application/x-recordio-protobuf\",\n",
      "                    \"SAGEMAKER_PROGRAM\": \"sagemaker_serve\",\n",
      "                    \"SAGEMAKER_SUBMIT_DIRECTORY\": \"/opt/ml/model/code\"\n",
      "                },\n",
      "                \"Image\": \"683313688378.dkr.ecr.us-east-1.amazonaws.com/sagemaker-sklearn-automl:2.5-1-cpu-py3\",\n",
      "                \"ModelDataUrl\": \"s3://sagemaker-us-east-1-740250289965/data-kalyan/autopilot/automl-dm-1663599311/data-processor-models/automl-dm-1663599311-dpp0-1-be32e56140754bc29c5e921d6075668d16a/output/model.tar.gz\"\n",
      "            },\n",
      "            {\n",
      "                \"Environment\": {\n",
      "                    \"MAX_CONTENT_LENGTH\": \"20971520\",\n",
      "                    \"SAGEMAKER_DEFAULT_INVOCATIONS_ACCEPT\": \"text/csv\",\n",
      "                    \"SAGEMAKER_INFERENCE_OUTPUT\": \"predicted_label\",\n",
      "                    \"SAGEMAKER_INFERENCE_SUPPORTED\": \"predicted_label,probability,probabilities\"\n",
      "                },\n",
      "                \"Image\": \"683313688378.dkr.ecr.us-east-1.amazonaws.com/sagemaker-xgboost:1.3-1-cpu-py3\",\n",
      "                \"ModelDataUrl\": \"s3://sagemaker-us-east-1-740250289965/data-kalyan/autopilot/automl-dm-1663599311/tuning/automl-dm--dpp0-xgb/automl-dm-1663599311mUdONubaqhhN-003-a2aaf670/output/model.tar.gz\"\n",
      "            },\n",
      "            {\n",
      "                \"Environment\": {\n",
      "                    \"AUTOML_TRANSFORM_MODE\": \"inverse-label-transform\",\n",
      "                    \"SAGEMAKER_DEFAULT_INVOCATIONS_ACCEPT\": \"text/csv\",\n",
      "                    \"SAGEMAKER_INFERENCE_INPUT\": \"predicted_label\",\n",
      "                    \"SAGEMAKER_INFERENCE_OUTPUT\": \"predicted_label\",\n",
      "                    \"SAGEMAKER_INFERENCE_SUPPORTED\": \"predicted_label,probability,labels,probabilities\",\n",
      "                    \"SAGEMAKER_PROGRAM\": \"sagemaker_serve\",\n",
      "                    \"SAGEMAKER_SUBMIT_DIRECTORY\": \"/opt/ml/model/code\"\n",
      "                },\n",
      "                \"Image\": \"683313688378.dkr.ecr.us-east-1.amazonaws.com/sagemaker-sklearn-automl:2.5-1-cpu-py3\",\n",
      "                \"ModelDataUrl\": \"s3://sagemaker-us-east-1-740250289965/data-kalyan/autopilot/automl-dm-1663599311/data-processor-models/automl-dm-1663599311-dpp0-1-be32e56140754bc29c5e921d6075668d16a/output/model.tar.gz\"\n",
      "            }\n",
      "        ],\n",
      "        \"LastModifiedTime\": \"2022-09-19 15:24:02.005000+00:00\",\n",
      "        \"ObjectiveStatus\": \"Succeeded\"\n",
      "    },\n",
      "    {\n",
      "        \"CandidateName\": \"automl-dm-1663599311mUdONubaqhhN-002-1e0d9069\",\n",
      "        \"CandidateProperties\": {\n",
      "            \"CandidateMetrics\": [\n",
      "                {\n",
      "                    \"MetricName\": \"Accuracy\",\n",
      "                    \"Set\": \"Validation\",\n",
      "                    \"StandardMetricName\": \"Accuracy\",\n",
      "                    \"Value\": 0.5922600030899048\n",
      "                },\n",
      "                {\n",
      "                    \"MetricName\": \"PrecisionMacro\",\n",
      "                    \"Set\": \"Validation\",\n",
      "                    \"StandardMetricName\": \"PrecisionMacro\",\n",
      "                    \"Value\": 0.5906699895858765\n",
      "                },\n",
      "                {\n",
      "                    \"MetricName\": \"BalancedAccuracy\",\n",
      "                    \"Set\": \"Validation\",\n",
      "                    \"StandardMetricName\": \"BalancedAccuracy\",\n",
      "                    \"Value\": 0.5922600030899048\n",
      "                },\n",
      "                {\n",
      "                    \"MetricName\": \"F1macro\",\n",
      "                    \"Set\": \"Validation\",\n",
      "                    \"StandardMetricName\": \"F1macro\",\n",
      "                    \"Value\": 0.5903400182723999\n",
      "                },\n",
      "                {\n",
      "                    \"MetricName\": \"RecallMacro\",\n",
      "                    \"Set\": \"Validation\",\n",
      "                    \"StandardMetricName\": \"RecallMacro\",\n",
      "                    \"Value\": 0.5922600030899048\n",
      "                }\n",
      "            ]\n",
      "        },\n",
      "        \"CandidateStatus\": \"Completed\",\n",
      "        \"CandidateSteps\": [\n",
      "            {\n",
      "                \"CandidateStepArn\": \"arn:aws:sagemaker:us-east-1:740250289965:processing-job/automl-dm-1663599311-db-1-6e0667df70da42c4be65301c87ae089a691ca\",\n",
      "                \"CandidateStepName\": \"automl-dm-1663599311-db-1-6e0667df70da42c4be65301c87ae089a691ca\",\n",
      "                \"CandidateStepType\": \"AWS::SageMaker::ProcessingJob\"\n",
      "            },\n",
      "            {\n",
      "                \"CandidateStepArn\": \"arn:aws:sagemaker:us-east-1:740250289965:training-job/automl-dm-1663599311-dpp2-1-4efa85c689d8417eab1f572a473d4ce55e1\",\n",
      "                \"CandidateStepName\": \"automl-dm-1663599311-dpp2-1-4efa85c689d8417eab1f572a473d4ce55e1\",\n",
      "                \"CandidateStepType\": \"AWS::SageMaker::TrainingJob\"\n",
      "            },\n",
      "            {\n",
      "                \"CandidateStepArn\": \"arn:aws:sagemaker:us-east-1:740250289965:transform-job/automl-dm-1663599311-dpp2-rpb-1-db97e9ae151949d38820d1692856f3c\",\n",
      "                \"CandidateStepName\": \"automl-dm-1663599311-dpp2-rpb-1-db97e9ae151949d38820d1692856f3c\",\n",
      "                \"CandidateStepType\": \"AWS::SageMaker::TransformJob\"\n",
      "            },\n",
      "            {\n",
      "                \"CandidateStepArn\": \"arn:aws:sagemaker:us-east-1:740250289965:training-job/automl-dm-1663599311mudonubaqhhn-002-1e0d9069\",\n",
      "                \"CandidateStepName\": \"automl-dm-1663599311mUdONubaqhhN-002-1e0d9069\",\n",
      "                \"CandidateStepType\": \"AWS::SageMaker::TrainingJob\"\n",
      "            }\n",
      "        ],\n",
      "        \"CreationTime\": \"2022-09-19 15:15:28+00:00\",\n",
      "        \"EndTime\": \"2022-09-19 15:23:22+00:00\",\n",
      "        \"FinalAutoMLJobObjectiveMetric\": {\n",
      "            \"MetricName\": \"validation:accuracy\",\n",
      "            \"Value\": 0.5922600030899048\n",
      "        },\n",
      "        \"InferenceContainers\": [\n",
      "            {\n",
      "                \"Environment\": {\n",
      "                    \"AUTOML_SPARSE_ENCODE_RECORDIO_PROTOBUF\": \"1\",\n",
      "                    \"AUTOML_TRANSFORM_MODE\": \"feature-transform\",\n",
      "                    \"SAGEMAKER_DEFAULT_INVOCATIONS_ACCEPT\": \"application/x-recordio-protobuf\",\n",
      "                    \"SAGEMAKER_PROGRAM\": \"sagemaker_serve\",\n",
      "                    \"SAGEMAKER_SUBMIT_DIRECTORY\": \"/opt/ml/model/code\"\n",
      "                },\n",
      "                \"Image\": \"683313688378.dkr.ecr.us-east-1.amazonaws.com/sagemaker-sklearn-automl:2.5-1-cpu-py3\",\n",
      "                \"ModelDataUrl\": \"s3://sagemaker-us-east-1-740250289965/data-kalyan/autopilot/automl-dm-1663599311/data-processor-models/automl-dm-1663599311-dpp2-1-4efa85c689d8417eab1f572a473d4ce55e1/output/model.tar.gz\"\n",
      "            },\n",
      "            {\n",
      "                \"Environment\": {\n",
      "                    \"MAX_CONTENT_LENGTH\": \"20971520\",\n",
      "                    \"SAGEMAKER_DEFAULT_INVOCATIONS_ACCEPT\": \"text/csv\",\n",
      "                    \"SAGEMAKER_INFERENCE_OUTPUT\": \"predicted_label\",\n",
      "                    \"SAGEMAKER_INFERENCE_SUPPORTED\": \"predicted_label,probability,probabilities\"\n",
      "                },\n",
      "                \"Image\": \"683313688378.dkr.ecr.us-east-1.amazonaws.com/sagemaker-xgboost:1.3-1-cpu-py3\",\n",
      "                \"ModelDataUrl\": \"s3://sagemaker-us-east-1-740250289965/data-kalyan/autopilot/automl-dm-1663599311/tuning/automl-dm--dpp2-xgb/automl-dm-1663599311mUdONubaqhhN-002-1e0d9069/output/model.tar.gz\"\n",
      "            },\n",
      "            {\n",
      "                \"Environment\": {\n",
      "                    \"AUTOML_TRANSFORM_MODE\": \"inverse-label-transform\",\n",
      "                    \"SAGEMAKER_DEFAULT_INVOCATIONS_ACCEPT\": \"text/csv\",\n",
      "                    \"SAGEMAKER_INFERENCE_INPUT\": \"predicted_label\",\n",
      "                    \"SAGEMAKER_INFERENCE_OUTPUT\": \"predicted_label\",\n",
      "                    \"SAGEMAKER_INFERENCE_SUPPORTED\": \"predicted_label,probability,labels,probabilities\",\n",
      "                    \"SAGEMAKER_PROGRAM\": \"sagemaker_serve\",\n",
      "                    \"SAGEMAKER_SUBMIT_DIRECTORY\": \"/opt/ml/model/code\"\n",
      "                },\n",
      "                \"Image\": \"683313688378.dkr.ecr.us-east-1.amazonaws.com/sagemaker-sklearn-automl:2.5-1-cpu-py3\",\n",
      "                \"ModelDataUrl\": \"s3://sagemaker-us-east-1-740250289965/data-kalyan/autopilot/automl-dm-1663599311/data-processor-models/automl-dm-1663599311-dpp2-1-4efa85c689d8417eab1f572a473d4ce55e1/output/model.tar.gz\"\n",
      "            }\n",
      "        ],\n",
      "        \"LastModifiedTime\": \"2022-09-19 15:24:02.005000+00:00\",\n",
      "        \"ObjectiveStatus\": \"Succeeded\"\n",
      "    },\n",
      "    {\n",
      "        \"CandidateName\": \"automl-dm-1663599311mUdONubaqhhN-001-709bc605\",\n",
      "        \"CandidateProperties\": {\n",
      "            \"CandidateArtifactLocations\": {\n",
      "                \"Explainability\": \"s3://sagemaker-us-east-1-740250289965/data-kalyan/autopilot/automl-dm-1663599311/documentation/explainability/output\",\n",
      "                \"ModelInsights\": \"s3://sagemaker-us-east-1-740250289965/data-kalyan/autopilot/automl-dm-1663599311/documentation/model_monitor/output\"\n",
      "            },\n",
      "            \"CandidateMetrics\": [\n",
      "                {\n",
      "                    \"MetricName\": \"Accuracy\",\n",
      "                    \"Set\": \"Validation\",\n",
      "                    \"StandardMetricName\": \"Accuracy\",\n",
      "                    \"Value\": 0.6151900291442871\n",
      "                },\n",
      "                {\n",
      "                    \"MetricName\": \"PrecisionMacro\",\n",
      "                    \"Set\": \"Validation\",\n",
      "                    \"StandardMetricName\": \"PrecisionMacro\",\n",
      "                    \"Value\": 0.6137400269508362\n",
      "                },\n",
      "                {\n",
      "                    \"MetricName\": \"BalancedAccuracy\",\n",
      "                    \"Set\": \"Validation\",\n",
      "                    \"StandardMetricName\": \"BalancedAccuracy\",\n",
      "                    \"Value\": 0.6151900291442871\n",
      "                },\n",
      "                {\n",
      "                    \"MetricName\": \"F1macro\",\n",
      "                    \"Set\": \"Validation\",\n",
      "                    \"StandardMetricName\": \"F1macro\",\n",
      "                    \"Value\": 0.6142299771308899\n",
      "                },\n",
      "                {\n",
      "                    \"MetricName\": \"RecallMacro\",\n",
      "                    \"Set\": \"Validation\",\n",
      "                    \"StandardMetricName\": \"RecallMacro\",\n",
      "                    \"Value\": 0.6151900291442871\n",
      "                }\n",
      "            ]\n",
      "        },\n",
      "        \"CandidateStatus\": \"Completed\",\n",
      "        \"CandidateSteps\": [\n",
      "            {\n",
      "                \"CandidateStepArn\": \"arn:aws:sagemaker:us-east-1:740250289965:processing-job/automl-dm-1663599311-db-1-6e0667df70da42c4be65301c87ae089a691ca\",\n",
      "                \"CandidateStepName\": \"automl-dm-1663599311-db-1-6e0667df70da42c4be65301c87ae089a691ca\",\n",
      "                \"CandidateStepType\": \"AWS::SageMaker::ProcessingJob\"\n",
      "            },\n",
      "            {\n",
      "                \"CandidateStepArn\": \"arn:aws:sagemaker:us-east-1:740250289965:training-job/automl-dm-1663599311-dpp2-1-4efa85c689d8417eab1f572a473d4ce55e1\",\n",
      "                \"CandidateStepName\": \"automl-dm-1663599311-dpp2-1-4efa85c689d8417eab1f572a473d4ce55e1\",\n",
      "                \"CandidateStepType\": \"AWS::SageMaker::TrainingJob\"\n",
      "            },\n",
      "            {\n",
      "                \"CandidateStepArn\": \"arn:aws:sagemaker:us-east-1:740250289965:transform-job/automl-dm-1663599311-dpp2-rpb-1-db97e9ae151949d38820d1692856f3c\",\n",
      "                \"CandidateStepName\": \"automl-dm-1663599311-dpp2-rpb-1-db97e9ae151949d38820d1692856f3c\",\n",
      "                \"CandidateStepType\": \"AWS::SageMaker::TransformJob\"\n",
      "            },\n",
      "            {\n",
      "                \"CandidateStepArn\": \"arn:aws:sagemaker:us-east-1:740250289965:training-job/automl-dm-1663599311mudonubaqhhn-001-709bc605\",\n",
      "                \"CandidateStepName\": \"automl-dm-1663599311mUdONubaqhhN-001-709bc605\",\n",
      "                \"CandidateStepType\": \"AWS::SageMaker::TrainingJob\"\n",
      "            }\n",
      "        ],\n",
      "        \"CreationTime\": \"2022-09-19 15:15:19+00:00\",\n",
      "        \"EndTime\": \"2022-09-19 15:17:37+00:00\",\n",
      "        \"FinalAutoMLJobObjectiveMetric\": {\n",
      "            \"MetricName\": \"validation:accuracy\",\n",
      "            \"Value\": 0.6151900291442871\n",
      "        },\n",
      "        \"InferenceContainers\": [\n",
      "            {\n",
      "                \"Environment\": {\n",
      "                    \"AUTOML_SPARSE_ENCODE_RECORDIO_PROTOBUF\": \"1\",\n",
      "                    \"AUTOML_TRANSFORM_MODE\": \"feature-transform\",\n",
      "                    \"SAGEMAKER_DEFAULT_INVOCATIONS_ACCEPT\": \"application/x-recordio-protobuf\",\n",
      "                    \"SAGEMAKER_PROGRAM\": \"sagemaker_serve\",\n",
      "                    \"SAGEMAKER_SUBMIT_DIRECTORY\": \"/opt/ml/model/code\"\n",
      "                },\n",
      "                \"Image\": \"683313688378.dkr.ecr.us-east-1.amazonaws.com/sagemaker-sklearn-automl:2.5-1-cpu-py3\",\n",
      "                \"ModelDataUrl\": \"s3://sagemaker-us-east-1-740250289965/data-kalyan/autopilot/automl-dm-1663599311/data-processor-models/automl-dm-1663599311-dpp2-1-4efa85c689d8417eab1f572a473d4ce55e1/output/model.tar.gz\"\n",
      "            },\n",
      "            {\n",
      "                \"Environment\": {\n",
      "                    \"MAX_CONTENT_LENGTH\": \"20971520\",\n",
      "                    \"SAGEMAKER_DEFAULT_INVOCATIONS_ACCEPT\": \"text/csv\",\n",
      "                    \"SAGEMAKER_INFERENCE_OUTPUT\": \"predicted_label\",\n",
      "                    \"SAGEMAKER_INFERENCE_SUPPORTED\": \"predicted_label,probability,probabilities\"\n",
      "                },\n",
      "                \"Image\": \"683313688378.dkr.ecr.us-east-1.amazonaws.com/sagemaker-xgboost:1.3-1-cpu-py3\",\n",
      "                \"ModelDataUrl\": \"s3://sagemaker-us-east-1-740250289965/data-kalyan/autopilot/automl-dm-1663599311/tuning/automl-dm--dpp2-xgb/automl-dm-1663599311mUdONubaqhhN-001-709bc605/output/model.tar.gz\"\n",
      "            },\n",
      "            {\n",
      "                \"Environment\": {\n",
      "                    \"AUTOML_TRANSFORM_MODE\": \"inverse-label-transform\",\n",
      "                    \"SAGEMAKER_DEFAULT_INVOCATIONS_ACCEPT\": \"text/csv\",\n",
      "                    \"SAGEMAKER_INFERENCE_INPUT\": \"predicted_label\",\n",
      "                    \"SAGEMAKER_INFERENCE_OUTPUT\": \"predicted_label\",\n",
      "                    \"SAGEMAKER_INFERENCE_SUPPORTED\": \"predicted_label,probability,labels,probabilities\",\n",
      "                    \"SAGEMAKER_PROGRAM\": \"sagemaker_serve\",\n",
      "                    \"SAGEMAKER_SUBMIT_DIRECTORY\": \"/opt/ml/model/code\"\n",
      "                },\n",
      "                \"Image\": \"683313688378.dkr.ecr.us-east-1.amazonaws.com/sagemaker-sklearn-automl:2.5-1-cpu-py3\",\n",
      "                \"ModelDataUrl\": \"s3://sagemaker-us-east-1-740250289965/data-kalyan/autopilot/automl-dm-1663599311/data-processor-models/automl-dm-1663599311-dpp2-1-4efa85c689d8417eab1f572a473d4ce55e1/output/model.tar.gz\"\n",
      "            }\n",
      "        ],\n",
      "        \"LastModifiedTime\": \"2022-09-19 15:24:19.653000+00:00\",\n",
      "        \"ObjectiveStatus\": \"Succeeded\"\n",
      "    }\n",
      "]\n"
     ]
    }
   ],
   "source": [
    "print(json.dumps(candidates, indent=4, sort_keys=True, default=str))\n"
   ]
  },
  {
   "cell_type": "code",
   "execution_count": 101,
   "metadata": {},
   "outputs": [
    {
     "name": "stdout",
     "output_type": "stream",
     "text": [
      "metric validation:accuracy\n",
      "0  automl-dm-1663599311mUdONubaqhhN-003-a2aaf670  0.5974699854850769\n",
      "1  automl-dm-1663599311mUdONubaqhhN-002-1e0d9069  0.5922600030899048\n",
      "2  automl-dm-1663599311mUdONubaqhhN-001-709bc605  0.6151900291442871\n"
     ]
    }
   ],
   "source": [
    "print(\"metric \" + str(candidates[0]['FinalAutoMLJobObjectiveMetric']['MetricName']))\n",
    "\n",
    "for index, candidate in enumerate(candidates):\n",
    "    print(str(index) + \"  \" \n",
    "        + candidate['CandidateName'] + \"  \" \n",
    "        + str(candidate['FinalAutoMLJobObjectiveMetric']['Value']))"
   ]
  },
  {
   "cell_type": "markdown",
   "metadata": {},
   "source": [
    "### 6.3. Review best candidate\n",
    "\n",
    "Now that you have successfully completed the Autopilot job on the dataset and visualized the trials, you can get the information about the best candidate model and review it."
   ]
  },
  {
   "cell_type": "code",
   "execution_count": 102,
   "metadata": {},
   "outputs": [
    {
     "name": "stdout",
     "output_type": "stream",
     "text": [
      "{\n",
      "    \"CandidateName\": \"automl-dm-1663599311mUdONubaqhhN-001-709bc605\",\n",
      "    \"CandidateProperties\": {\n",
      "        \"CandidateArtifactLocations\": {\n",
      "            \"Explainability\": \"s3://sagemaker-us-east-1-740250289965/data-kalyan/autopilot/automl-dm-1663599311/documentation/explainability/output\",\n",
      "            \"ModelInsights\": \"s3://sagemaker-us-east-1-740250289965/data-kalyan/autopilot/automl-dm-1663599311/documentation/model_monitor/output\"\n",
      "        },\n",
      "        \"CandidateMetrics\": [\n",
      "            {\n",
      "                \"MetricName\": \"Accuracy\",\n",
      "                \"Set\": \"Validation\",\n",
      "                \"StandardMetricName\": \"Accuracy\",\n",
      "                \"Value\": 0.6151900291442871\n",
      "            },\n",
      "            {\n",
      "                \"MetricName\": \"PrecisionMacro\",\n",
      "                \"Set\": \"Validation\",\n",
      "                \"StandardMetricName\": \"PrecisionMacro\",\n",
      "                \"Value\": 0.6137400269508362\n",
      "            },\n",
      "            {\n",
      "                \"MetricName\": \"BalancedAccuracy\",\n",
      "                \"Set\": \"Validation\",\n",
      "                \"StandardMetricName\": \"BalancedAccuracy\",\n",
      "                \"Value\": 0.6151900291442871\n",
      "            },\n",
      "            {\n",
      "                \"MetricName\": \"F1macro\",\n",
      "                \"Set\": \"Validation\",\n",
      "                \"StandardMetricName\": \"F1macro\",\n",
      "                \"Value\": 0.6142299771308899\n",
      "            },\n",
      "            {\n",
      "                \"MetricName\": \"RecallMacro\",\n",
      "                \"Set\": \"Validation\",\n",
      "                \"StandardMetricName\": \"RecallMacro\",\n",
      "                \"Value\": 0.6151900291442871\n",
      "            }\n",
      "        ]\n",
      "    },\n",
      "    \"CandidateStatus\": \"Completed\",\n",
      "    \"CandidateSteps\": [\n",
      "        {\n",
      "            \"CandidateStepArn\": \"arn:aws:sagemaker:us-east-1:740250289965:processing-job/automl-dm-1663599311-db-1-6e0667df70da42c4be65301c87ae089a691ca\",\n",
      "            \"CandidateStepName\": \"automl-dm-1663599311-db-1-6e0667df70da42c4be65301c87ae089a691ca\",\n",
      "            \"CandidateStepType\": \"AWS::SageMaker::ProcessingJob\"\n",
      "        },\n",
      "        {\n",
      "            \"CandidateStepArn\": \"arn:aws:sagemaker:us-east-1:740250289965:training-job/automl-dm-1663599311-dpp2-1-4efa85c689d8417eab1f572a473d4ce55e1\",\n",
      "            \"CandidateStepName\": \"automl-dm-1663599311-dpp2-1-4efa85c689d8417eab1f572a473d4ce55e1\",\n",
      "            \"CandidateStepType\": \"AWS::SageMaker::TrainingJob\"\n",
      "        },\n",
      "        {\n",
      "            \"CandidateStepArn\": \"arn:aws:sagemaker:us-east-1:740250289965:transform-job/automl-dm-1663599311-dpp2-rpb-1-db97e9ae151949d38820d1692856f3c\",\n",
      "            \"CandidateStepName\": \"automl-dm-1663599311-dpp2-rpb-1-db97e9ae151949d38820d1692856f3c\",\n",
      "            \"CandidateStepType\": \"AWS::SageMaker::TransformJob\"\n",
      "        },\n",
      "        {\n",
      "            \"CandidateStepArn\": \"arn:aws:sagemaker:us-east-1:740250289965:training-job/automl-dm-1663599311mudonubaqhhn-001-709bc605\",\n",
      "            \"CandidateStepName\": \"automl-dm-1663599311mUdONubaqhhN-001-709bc605\",\n",
      "            \"CandidateStepType\": \"AWS::SageMaker::TrainingJob\"\n",
      "        }\n",
      "    ],\n",
      "    \"CreationTime\": \"2022-09-19 15:15:19+00:00\",\n",
      "    \"EndTime\": \"2022-09-19 15:17:37+00:00\",\n",
      "    \"FinalAutoMLJobObjectiveMetric\": {\n",
      "        \"MetricName\": \"validation:accuracy\",\n",
      "        \"Value\": 0.6151900291442871\n",
      "    },\n",
      "    \"InferenceContainers\": [\n",
      "        {\n",
      "            \"Environment\": {\n",
      "                \"AUTOML_SPARSE_ENCODE_RECORDIO_PROTOBUF\": \"1\",\n",
      "                \"AUTOML_TRANSFORM_MODE\": \"feature-transform\",\n",
      "                \"SAGEMAKER_DEFAULT_INVOCATIONS_ACCEPT\": \"application/x-recordio-protobuf\",\n",
      "                \"SAGEMAKER_PROGRAM\": \"sagemaker_serve\",\n",
      "                \"SAGEMAKER_SUBMIT_DIRECTORY\": \"/opt/ml/model/code\"\n",
      "            },\n",
      "            \"Image\": \"683313688378.dkr.ecr.us-east-1.amazonaws.com/sagemaker-sklearn-automl:2.5-1-cpu-py3\",\n",
      "            \"ModelDataUrl\": \"s3://sagemaker-us-east-1-740250289965/data-kalyan/autopilot/automl-dm-1663599311/data-processor-models/automl-dm-1663599311-dpp2-1-4efa85c689d8417eab1f572a473d4ce55e1/output/model.tar.gz\"\n",
      "        },\n",
      "        {\n",
      "            \"Environment\": {\n",
      "                \"MAX_CONTENT_LENGTH\": \"20971520\",\n",
      "                \"SAGEMAKER_DEFAULT_INVOCATIONS_ACCEPT\": \"text/csv\",\n",
      "                \"SAGEMAKER_INFERENCE_OUTPUT\": \"predicted_label\",\n",
      "                \"SAGEMAKER_INFERENCE_SUPPORTED\": \"predicted_label,probability,probabilities\"\n",
      "            },\n",
      "            \"Image\": \"683313688378.dkr.ecr.us-east-1.amazonaws.com/sagemaker-xgboost:1.3-1-cpu-py3\",\n",
      "            \"ModelDataUrl\": \"s3://sagemaker-us-east-1-740250289965/data-kalyan/autopilot/automl-dm-1663599311/tuning/automl-dm--dpp2-xgb/automl-dm-1663599311mUdONubaqhhN-001-709bc605/output/model.tar.gz\"\n",
      "        },\n",
      "        {\n",
      "            \"Environment\": {\n",
      "                \"AUTOML_TRANSFORM_MODE\": \"inverse-label-transform\",\n",
      "                \"SAGEMAKER_DEFAULT_INVOCATIONS_ACCEPT\": \"text/csv\",\n",
      "                \"SAGEMAKER_INFERENCE_INPUT\": \"predicted_label\",\n",
      "                \"SAGEMAKER_INFERENCE_OUTPUT\": \"predicted_label\",\n",
      "                \"SAGEMAKER_INFERENCE_SUPPORTED\": \"predicted_label,probability,labels,probabilities\",\n",
      "                \"SAGEMAKER_PROGRAM\": \"sagemaker_serve\",\n",
      "                \"SAGEMAKER_SUBMIT_DIRECTORY\": \"/opt/ml/model/code\"\n",
      "            },\n",
      "            \"Image\": \"683313688378.dkr.ecr.us-east-1.amazonaws.com/sagemaker-sklearn-automl:2.5-1-cpu-py3\",\n",
      "            \"ModelDataUrl\": \"s3://sagemaker-us-east-1-740250289965/data-kalyan/autopilot/automl-dm-1663599311/data-processor-models/automl-dm-1663599311-dpp2-1-4efa85c689d8417eab1f572a473d4ce55e1/output/model.tar.gz\"\n",
      "        }\n",
      "    ],\n",
      "    \"LastModifiedTime\": \"2022-09-19 15:24:19.653000+00:00\",\n",
      "    \"ObjectiveStatus\": \"Succeeded\"\n",
      "}\n"
     ]
    }
   ],
   "source": [
    "candidates = automl.list_candidates(job_name=auto_ml_job_name)\n",
    "\n",
    "if candidates != []:\n",
    "    best_candidate = automl.best_candidate(\n",
    "        job_name=auto_ml_job_name # Replace None\n",
    "    )\n",
    "    print(json.dumps(best_candidate, indent=4, sort_keys=True, default=str))"
   ]
  },
  {
   "cell_type": "code",
   "execution_count": 103,
   "metadata": {},
   "outputs": [
    {
     "name": "stdout",
     "output_type": "stream",
     "text": [
      "[OK] BestCandidate CandidateName generated.\n"
     ]
    }
   ],
   "source": [
    "while 'CandidateName' not in best_candidate:\n",
    "    best_candidate = automl.best_candidate(job_name=auto_ml_job_name)\n",
    "    print('[INFO] Autopilot Job is generating BestCandidate CandidateName. Please wait. ')\n",
    "    print(json.dumps(best_candidate, indent=4, sort_keys=True, default=str))\n",
    "    sleep(10)\n",
    "\n",
    "print('[OK] BestCandidate CandidateName generated.') "
   ]
  },
  {
   "cell_type": "code",
   "execution_count": 104,
   "metadata": {},
   "outputs": [
    {
     "name": "stdout",
     "output_type": "stream",
     "text": [
      "[OK] BestCandidate FinalAutoMLJobObjectiveMetric generated.\n"
     ]
    }
   ],
   "source": [
    "while 'FinalAutoMLJobObjectiveMetric' not in best_candidate:\n",
    "    best_candidate = automl.best_candidate(job_name=auto_ml_job_name)\n",
    "    print('[INFO] Autopilot Job is generating BestCandidate FinalAutoMLJobObjectiveMetric. Please wait. ')\n",
    "    print(json.dumps(best_candidate, indent=4, sort_keys=True, default=str))\n",
    "    sleep(10)\n",
    "\n",
    "print('[OK] BestCandidate FinalAutoMLJobObjectiveMetric generated.')  "
   ]
  },
  {
   "cell_type": "code",
   "execution_count": 105,
   "metadata": {},
   "outputs": [
    {
     "name": "stdout",
     "output_type": "stream",
     "text": [
      "Candidate name: automl-dm-1663599311mUdONubaqhhN-001-709bc605\n",
      "Metric name: validation:accuracy\n",
      "Metric value: 0.6151900291442871\n"
     ]
    }
   ],
   "source": [
    "best_candidate_identifier = best_candidate['CandidateName']\n",
    "print(\"Candidate name: \" + best_candidate_identifier)\n",
    "print(\"Metric name: \" + best_candidate['FinalAutoMLJobObjectiveMetric']['MetricName'])\n",
    "print(\"Metric value: \" + str(best_candidate['FinalAutoMLJobObjectiveMetric']['Value']))"
   ]
  },
  {
   "cell_type": "markdown",
   "metadata": {},
   "source": [
    "# 8. Deploy and test best candidate model"
   ]
  },
  {
   "cell_type": "code",
   "execution_count": 107,
   "metadata": {},
   "outputs": [],
   "source": [
    "inference_response_keys = ['predicted_label', 'probability']"
   ]
  },
  {
   "cell_type": "code",
   "execution_count": 108,
   "metadata": {},
   "outputs": [
    {
     "name": "stdout",
     "output_type": "stream",
     "text": [
      "-----------------!\n",
      "Endpoint name:  sagemaker-sklearn-automl-2022-09-19-15-56-53-630\n"
     ]
    }
   ],
   "source": [
    "autopilot_model = automl.deploy(\n",
    "    initial_instance_count=1,\n",
    "    instance_type='ml.m5.large',\n",
    "    candidate=best_candidate,\n",
    "    inference_response_keys=inference_response_keys,\n",
    "    predictor_cls=sagemaker.predictor.Predictor,\n",
    "    serializer=sagemaker.serializers.JSONSerializer(),\n",
    "    deserializer=sagemaker.deserializers.JSONDeserializer()\n",
    ")\n",
    "\n",
    "print('\\nEndpoint name:  {}'.format(autopilot_model.endpoint_name))"
   ]
  },
  {
   "cell_type": "markdown",
   "metadata": {},
   "source": [
    "### 8.2. Test the model"
   ]
  },
  {
   "cell_type": "code",
   "execution_count": 110,
   "metadata": {},
   "outputs": [
    {
     "name": "stdout",
     "output_type": "stream",
     "text": [
      "Review:  This product is great!  Predicated class: 1\n",
      "Review:  OK but not great.  Predicated class: 0\n",
      "Review:  This is not the right product.  Predicated class: -1\n",
      "(-1 = Negative, 0=Neutral, 1=Positive)\n"
     ]
    }
   ],
   "source": [
    "review_list = ['This product is great!',\n",
    "               'OK, but not great.',\n",
    "               'This is not the right product.']\n",
    "\n",
    "for review in review_list:\n",
    "    \n",
    "    # remove commas from the review since we're passing the inputs as a CSV\n",
    "    review = review.replace(\",\", \"\")\n",
    "\n",
    "    response = sm_runtime.invoke_endpoint(\n",
    "        EndpointName=autopilot_model.endpoint_name, # endpoint name\n",
    "        ContentType='text/csv', # type of input data\n",
    "        Accept='text/csv', # type of the inference in the response\n",
    "        Body=review # review text\n",
    "        )\n",
    "\n",
    "    response_body=response['Body'].read().decode('utf-8').strip().split(',')\n",
    "\n",
    "    print('Review: ', review, ' Predicated class: {}'.format(response_body[0]))\n",
    "\n",
    "print(\"(-1 = Negative, 0=Neutral, 1=Positive)\")"
   ]
  },
  {
   "cell_type": "code",
   "execution_count": null,
   "metadata": {},
   "outputs": [],
   "source": []
  }
 ],
 "metadata": {
  "instance_type": "ml.t3.medium",
  "kernelspec": {
   "display_name": "Python 3 (Data Science)",
   "language": "python",
   "name": "python3__SAGEMAKER_INTERNAL__arn:aws:sagemaker:us-east-1:081325390199:image/datascience-1.0"
  },
  "language_info": {
   "codemirror_mode": {
    "name": "ipython",
    "version": 3
   },
   "file_extension": ".py",
   "mimetype": "text/x-python",
   "name": "python",
   "nbconvert_exporter": "python",
   "pygments_lexer": "ipython3",
   "version": "3.7.10"
  }
 },
 "nbformat": 4,
 "nbformat_minor": 4
}
